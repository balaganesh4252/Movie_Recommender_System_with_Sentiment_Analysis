{
 "cells": [
  {
   "cell_type": "code",
   "execution_count": 1,
   "id": "6f70ec3a",
   "metadata": {},
   "outputs": [],
   "source": [
    "import pandas as pd\n",
    "import numpy as np\n",
    "import requests\n",
    "import bs4 as bs\n",
    "import urllib.request"
   ]
  },
  {
   "cell_type": "markdown",
   "id": "7dd558be",
   "metadata": {},
   "source": [
    "# # Extracting features of 2022 movies from Wikipedia"
   ]
  },
  {
   "cell_type": "code",
   "execution_count": 3,
   "id": "4185869f",
   "metadata": {},
   "outputs": [],
   "source": [
    "link = \"https://en.wikipedia.org/wiki/List_of_American_films_of_2022\""
   ]
  },
  {
   "cell_type": "code",
   "execution_count": 4,
   "id": "b8464f2c",
   "metadata": {},
   "outputs": [],
   "source": [
    "source = urllib.request.urlopen(link).read()\n",
    "soup = bs.BeautifulSoup(source,'lxml')"
   ]
  },
  {
   "cell_type": "code",
   "execution_count": 5,
   "id": "060f2c43",
   "metadata": {},
   "outputs": [],
   "source": [
    "tables = soup.find_all('table',class_='wikitable sortable')"
   ]
  },
  {
   "cell_type": "code",
   "execution_count": 6,
   "id": "f3bf29ca",
   "metadata": {},
   "outputs": [],
   "source": [
    "df1 = pd.read_html(str(tables[0]))[0]\n",
    "df2 = pd.read_html(str(tables[1]))[0]\n",
    "df3 = pd.read_html(str(tables[2]))[0]\n",
    "df4 = pd.read_html(str(tables[3]).replace(\"'1\\\"\\'\",'\"1\"'))[0]"
   ]
  },
  {
   "cell_type": "code",
   "execution_count": 7,
   "id": "a5dbae73",
   "metadata": {},
   "outputs": [
    {
     "name": "stderr",
     "output_type": "stream",
     "text": [
      "C:\\Users\\mgopa\\AppData\\Local\\Temp\\ipykernel_2328\\1752420719.py:1: FutureWarning: The frame.append method is deprecated and will be removed from pandas in a future version. Use pandas.concat instead.\n",
      "  df = df1.append(df2.append(df3.append(df4,ignore_index=True),ignore_index=True),ignore_index=True)\n"
     ]
    }
   ],
   "source": [
    "df = df1.append(df2.append(df3.append(df4,ignore_index=True),ignore_index=True),ignore_index=True)"
   ]
  },
  {
   "cell_type": "code",
   "execution_count": 8,
   "id": "c61f32a9",
   "metadata": {},
   "outputs": [
    {
     "data": {
      "text/html": [
       "<div>\n",
       "<style scoped>\n",
       "    .dataframe tbody tr th:only-of-type {\n",
       "        vertical-align: middle;\n",
       "    }\n",
       "\n",
       "    .dataframe tbody tr th {\n",
       "        vertical-align: top;\n",
       "    }\n",
       "\n",
       "    .dataframe thead th {\n",
       "        text-align: right;\n",
       "    }\n",
       "</style>\n",
       "<table border=\"1\" class=\"dataframe\">\n",
       "  <thead>\n",
       "    <tr style=\"text-align: right;\">\n",
       "      <th></th>\n",
       "      <th>Opening</th>\n",
       "      <th>Opening.1</th>\n",
       "      <th>Title</th>\n",
       "      <th>Production company</th>\n",
       "      <th>Cast and crew</th>\n",
       "      <th>.mw-parser-output .tooltip-dotted{border-bottom:1px dotted;cursor:help}Ref.</th>\n",
       "      <th>Ref.</th>\n",
       "    </tr>\n",
       "  </thead>\n",
       "  <tbody>\n",
       "    <tr>\n",
       "      <th>0</th>\n",
       "      <td>J A N U A R Y</td>\n",
       "      <td>7.0</td>\n",
       "      <td>The 355</td>\n",
       "      <td>Universal Pictures / Freckle Films / FilmNatio...</td>\n",
       "      <td>Simon Kinberg (director/screenplay); Theresa R...</td>\n",
       "      <td>[2]</td>\n",
       "      <td>NaN</td>\n",
       "    </tr>\n",
       "    <tr>\n",
       "      <th>1</th>\n",
       "      <td>J A N U A R Y</td>\n",
       "      <td>7.0</td>\n",
       "      <td>The Legend of La Llorona</td>\n",
       "      <td>Saban Films</td>\n",
       "      <td>Patricia Harris Seeley (director/screenplay); ...</td>\n",
       "      <td>[3]</td>\n",
       "      <td>NaN</td>\n",
       "    </tr>\n",
       "    <tr>\n",
       "      <th>2</th>\n",
       "      <td>J A N U A R Y</td>\n",
       "      <td>7.0</td>\n",
       "      <td>The Commando</td>\n",
       "      <td>Saban Films / Premiere Entertainment</td>\n",
       "      <td>Asif Akbar (director); Koji Steven Sakai (scre...</td>\n",
       "      <td>[4]</td>\n",
       "      <td>NaN</td>\n",
       "    </tr>\n",
       "    <tr>\n",
       "      <th>3</th>\n",
       "      <td>J A N U A R Y</td>\n",
       "      <td>7.0</td>\n",
       "      <td>American Siege</td>\n",
       "      <td>Vertical Entertainment</td>\n",
       "      <td>Edward Drake (director/screenplay); Timothy V....</td>\n",
       "      <td>[5]</td>\n",
       "      <td>NaN</td>\n",
       "    </tr>\n",
       "    <tr>\n",
       "      <th>4</th>\n",
       "      <td>J A N U A R Y</td>\n",
       "      <td>14.0</td>\n",
       "      <td>Scream</td>\n",
       "      <td>Paramount Pictures / Spyglass Media Group</td>\n",
       "      <td>Matt Bettinelli-Olpin, Tyler Gillett (director...</td>\n",
       "      <td>[6]</td>\n",
       "      <td>NaN</td>\n",
       "    </tr>\n",
       "  </tbody>\n",
       "</table>\n",
       "</div>"
      ],
      "text/plain": [
       "         Opening  Opening.1                     Title  \\\n",
       "0  J A N U A R Y        7.0                   The 355   \n",
       "1  J A N U A R Y        7.0  The Legend of La Llorona   \n",
       "2  J A N U A R Y        7.0              The Commando   \n",
       "3  J A N U A R Y        7.0            American Siege   \n",
       "4  J A N U A R Y       14.0                    Scream   \n",
       "\n",
       "                                  Production company  \\\n",
       "0  Universal Pictures / Freckle Films / FilmNatio...   \n",
       "1                                        Saban Films   \n",
       "2               Saban Films / Premiere Entertainment   \n",
       "3                             Vertical Entertainment   \n",
       "4          Paramount Pictures / Spyglass Media Group   \n",
       "\n",
       "                                       Cast and crew  \\\n",
       "0  Simon Kinberg (director/screenplay); Theresa R...   \n",
       "1  Patricia Harris Seeley (director/screenplay); ...   \n",
       "2  Asif Akbar (director); Koji Steven Sakai (scre...   \n",
       "3  Edward Drake (director/screenplay); Timothy V....   \n",
       "4  Matt Bettinelli-Olpin, Tyler Gillett (director...   \n",
       "\n",
       "  .mw-parser-output .tooltip-dotted{border-bottom:1px dotted;cursor:help}Ref.  \\\n",
       "0                                                [2]                            \n",
       "1                                                [3]                            \n",
       "2                                                [4]                            \n",
       "3                                                [5]                            \n",
       "4                                                [6]                            \n",
       "\n",
       "  Ref.  \n",
       "0  NaN  \n",
       "1  NaN  \n",
       "2  NaN  \n",
       "3  NaN  \n",
       "4  NaN  "
      ]
     },
     "execution_count": 8,
     "metadata": {},
     "output_type": "execute_result"
    }
   ],
   "source": [
    "df.head()"
   ]
  },
  {
   "cell_type": "code",
   "execution_count": 9,
   "id": "175ab5d1",
   "metadata": {},
   "outputs": [],
   "source": [
    "df_2022 = df[['Title','Cast and crew']]"
   ]
  },
  {
   "cell_type": "code",
   "execution_count": 10,
   "id": "dbfdae96",
   "metadata": {},
   "outputs": [
    {
     "data": {
      "text/html": [
       "<div>\n",
       "<style scoped>\n",
       "    .dataframe tbody tr th:only-of-type {\n",
       "        vertical-align: middle;\n",
       "    }\n",
       "\n",
       "    .dataframe tbody tr th {\n",
       "        vertical-align: top;\n",
       "    }\n",
       "\n",
       "    .dataframe thead th {\n",
       "        text-align: right;\n",
       "    }\n",
       "</style>\n",
       "<table border=\"1\" class=\"dataframe\">\n",
       "  <thead>\n",
       "    <tr style=\"text-align: right;\">\n",
       "      <th></th>\n",
       "      <th>Title</th>\n",
       "      <th>Cast and crew</th>\n",
       "    </tr>\n",
       "  </thead>\n",
       "  <tbody>\n",
       "    <tr>\n",
       "      <th>0</th>\n",
       "      <td>The 355</td>\n",
       "      <td>Simon Kinberg (director/screenplay); Theresa R...</td>\n",
       "    </tr>\n",
       "    <tr>\n",
       "      <th>1</th>\n",
       "      <td>The Legend of La Llorona</td>\n",
       "      <td>Patricia Harris Seeley (director/screenplay); ...</td>\n",
       "    </tr>\n",
       "    <tr>\n",
       "      <th>2</th>\n",
       "      <td>The Commando</td>\n",
       "      <td>Asif Akbar (director); Koji Steven Sakai (scre...</td>\n",
       "    </tr>\n",
       "    <tr>\n",
       "      <th>3</th>\n",
       "      <td>American Siege</td>\n",
       "      <td>Edward Drake (director/screenplay); Timothy V....</td>\n",
       "    </tr>\n",
       "    <tr>\n",
       "      <th>4</th>\n",
       "      <td>Scream</td>\n",
       "      <td>Matt Bettinelli-Olpin, Tyler Gillett (director...</td>\n",
       "    </tr>\n",
       "  </tbody>\n",
       "</table>\n",
       "</div>"
      ],
      "text/plain": [
       "                      Title                                      Cast and crew\n",
       "0                   The 355  Simon Kinberg (director/screenplay); Theresa R...\n",
       "1  The Legend of La Llorona  Patricia Harris Seeley (director/screenplay); ...\n",
       "2              The Commando  Asif Akbar (director); Koji Steven Sakai (scre...\n",
       "3            American Siege  Edward Drake (director/screenplay); Timothy V....\n",
       "4                    Scream  Matt Bettinelli-Olpin, Tyler Gillett (director..."
      ]
     },
     "execution_count": 10,
     "metadata": {},
     "output_type": "execute_result"
    }
   ],
   "source": [
    "df_2022.head()"
   ]
  },
  {
   "cell_type": "code",
   "execution_count": 11,
   "id": "808889f5",
   "metadata": {},
   "outputs": [],
   "source": [
    "from tmdbv3api import TMDb\n",
    "import json\n",
    "import requests\n",
    "tmdb = TMDb()\n",
    "tmdb.api_key = '268b11c4d32d6f2b166ddb0f8fc697fd'"
   ]
  },
  {
   "cell_type": "code",
   "execution_count": 12,
   "id": "bdf7bae9",
   "metadata": {},
   "outputs": [],
   "source": [
    "from tmdbv3api import Movie\n",
    "tmdb_movie = Movie() \n",
    "def get_genre(x):\n",
    "    genres = []\n",
    "    result = tmdb_movie.search(x)\n",
    "    if not result:\n",
    "      return np.NaN\n",
    "    else:\n",
    "      movie_id = result[0].id\n",
    "      response = requests.get('https://api.themoviedb.org/3/movie/{}?api_key={}'.format(movie_id,tmdb.api_key))\n",
    "      data_json = response.json()\n",
    "      if data_json['genres']:\n",
    "          genre_str = \" \" \n",
    "          for i in range(0,len(data_json['genres'])):\n",
    "              genres.append(data_json['genres'][i]['name'])\n",
    "          return genre_str.join(genres)\n",
    "      else:\n",
    "          return np.NaN"
   ]
  },
  {
   "cell_type": "code",
   "execution_count": 13,
   "id": "0c6d59ed",
   "metadata": {},
   "outputs": [
    {
     "name": "stderr",
     "output_type": "stream",
     "text": [
      "C:\\Users\\mgopa\\AppData\\Local\\Temp\\ipykernel_2328\\2369738557.py:1: SettingWithCopyWarning: \n",
      "A value is trying to be set on a copy of a slice from a DataFrame.\n",
      "Try using .loc[row_indexer,col_indexer] = value instead\n",
      "\n",
      "See the caveats in the documentation: https://pandas.pydata.org/pandas-docs/stable/user_guide/indexing.html#returning-a-view-versus-a-copy\n",
      "  df_2022['genres'] = df_2022['Title'].map(lambda x: get_genre(str(x)))\n"
     ]
    }
   ],
   "source": [
    "df_2022['genres'] = df_2022['Title'].map(lambda x: get_genre(str(x)))"
   ]
  },
  {
   "cell_type": "code",
   "execution_count": 14,
   "id": "cb4f8d2b",
   "metadata": {},
   "outputs": [
    {
     "data": {
      "text/html": [
       "<div>\n",
       "<style scoped>\n",
       "    .dataframe tbody tr th:only-of-type {\n",
       "        vertical-align: middle;\n",
       "    }\n",
       "\n",
       "    .dataframe tbody tr th {\n",
       "        vertical-align: top;\n",
       "    }\n",
       "\n",
       "    .dataframe thead th {\n",
       "        text-align: right;\n",
       "    }\n",
       "</style>\n",
       "<table border=\"1\" class=\"dataframe\">\n",
       "  <thead>\n",
       "    <tr style=\"text-align: right;\">\n",
       "      <th></th>\n",
       "      <th>Title</th>\n",
       "      <th>Cast and crew</th>\n",
       "      <th>genres</th>\n",
       "    </tr>\n",
       "  </thead>\n",
       "  <tbody>\n",
       "    <tr>\n",
       "      <th>0</th>\n",
       "      <td>The 355</td>\n",
       "      <td>Simon Kinberg (director/screenplay); Theresa R...</td>\n",
       "      <td>Action Thriller</td>\n",
       "    </tr>\n",
       "    <tr>\n",
       "      <th>1</th>\n",
       "      <td>The Legend of La Llorona</td>\n",
       "      <td>Patricia Harris Seeley (director/screenplay); ...</td>\n",
       "      <td>Horror Thriller</td>\n",
       "    </tr>\n",
       "    <tr>\n",
       "      <th>2</th>\n",
       "      <td>The Commando</td>\n",
       "      <td>Asif Akbar (director); Koji Steven Sakai (scre...</td>\n",
       "      <td>Action Crime Thriller</td>\n",
       "    </tr>\n",
       "    <tr>\n",
       "      <th>3</th>\n",
       "      <td>American Siege</td>\n",
       "      <td>Edward Drake (director/screenplay); Timothy V....</td>\n",
       "      <td>Action Thriller Crime Drama</td>\n",
       "    </tr>\n",
       "    <tr>\n",
       "      <th>4</th>\n",
       "      <td>Scream</td>\n",
       "      <td>Matt Bettinelli-Olpin, Tyler Gillett (director...</td>\n",
       "      <td>Horror Mystery Thriller</td>\n",
       "    </tr>\n",
       "  </tbody>\n",
       "</table>\n",
       "</div>"
      ],
      "text/plain": [
       "                      Title  \\\n",
       "0                   The 355   \n",
       "1  The Legend of La Llorona   \n",
       "2              The Commando   \n",
       "3            American Siege   \n",
       "4                    Scream   \n",
       "\n",
       "                                       Cast and crew  \\\n",
       "0  Simon Kinberg (director/screenplay); Theresa R...   \n",
       "1  Patricia Harris Seeley (director/screenplay); ...   \n",
       "2  Asif Akbar (director); Koji Steven Sakai (scre...   \n",
       "3  Edward Drake (director/screenplay); Timothy V....   \n",
       "4  Matt Bettinelli-Olpin, Tyler Gillett (director...   \n",
       "\n",
       "                        genres  \n",
       "0              Action Thriller  \n",
       "1              Horror Thriller  \n",
       "2        Action Crime Thriller  \n",
       "3  Action Thriller Crime Drama  \n",
       "4      Horror Mystery Thriller  "
      ]
     },
     "execution_count": 14,
     "metadata": {},
     "output_type": "execute_result"
    }
   ],
   "source": [
    "df_2022.head()"
   ]
  },
  {
   "cell_type": "code",
   "execution_count": 15,
   "id": "507c663f",
   "metadata": {},
   "outputs": [],
   "source": [
    "def get_director(x):\n",
    "    if \" (director)\" in x:\n",
    "        return x.split(\" (director)\")[0]\n",
    "    elif \" (directors)\" in x:\n",
    "        return x.split(\" (directors)\")[0]\n",
    "    else:\n",
    "        return x.split(\" (director/screenplay)\")[0]"
   ]
  },
  {
   "cell_type": "code",
   "execution_count": 16,
   "id": "7937796a",
   "metadata": {},
   "outputs": [
    {
     "name": "stderr",
     "output_type": "stream",
     "text": [
      "C:\\Users\\mgopa\\AppData\\Local\\Temp\\ipykernel_2328\\3796821595.py:1: SettingWithCopyWarning: \n",
      "A value is trying to be set on a copy of a slice from a DataFrame.\n",
      "Try using .loc[row_indexer,col_indexer] = value instead\n",
      "\n",
      "See the caveats in the documentation: https://pandas.pydata.org/pandas-docs/stable/user_guide/indexing.html#returning-a-view-versus-a-copy\n",
      "  df_2022['director_name'] = df_2022['Cast and crew'].map(lambda x: get_director(str(x)))\n"
     ]
    }
   ],
   "source": [
    "df_2022['director_name'] = df_2022['Cast and crew'].map(lambda x: get_director(str(x)))"
   ]
  },
  {
   "cell_type": "code",
   "execution_count": 17,
   "id": "2eb68097",
   "metadata": {},
   "outputs": [],
   "source": [
    "def get_actor1(x):\n",
    "    return ((x.split(\"screenplay); \")[-1]).split(\", \")[0])"
   ]
  },
  {
   "cell_type": "code",
   "execution_count": 18,
   "id": "cfa10267",
   "metadata": {},
   "outputs": [
    {
     "name": "stderr",
     "output_type": "stream",
     "text": [
      "C:\\Users\\mgopa\\AppData\\Local\\Temp\\ipykernel_2328\\2929607607.py:1: SettingWithCopyWarning: \n",
      "A value is trying to be set on a copy of a slice from a DataFrame.\n",
      "Try using .loc[row_indexer,col_indexer] = value instead\n",
      "\n",
      "See the caveats in the documentation: https://pandas.pydata.org/pandas-docs/stable/user_guide/indexing.html#returning-a-view-versus-a-copy\n",
      "  df_2022['actor_1_name'] = df_2022['Cast and crew'].map(lambda x: get_actor1(str(x)))\n"
     ]
    }
   ],
   "source": [
    "df_2022['actor_1_name'] = df_2022['Cast and crew'].map(lambda x: get_actor1(str(x)))"
   ]
  },
  {
   "cell_type": "code",
   "execution_count": 19,
   "id": "347540a2",
   "metadata": {},
   "outputs": [],
   "source": [
    "def get_actor2(x):\n",
    "    if len((x.split(\"screenplay); \")[-1]).split(\", \")) < 2:\n",
    "        return np.NaN\n",
    "    else:\n",
    "        return ((x.split(\"screenplay); \")[-1]).split(\", \")[1])"
   ]
  },
  {
   "cell_type": "code",
   "execution_count": 20,
   "id": "f51afca7",
   "metadata": {},
   "outputs": [
    {
     "name": "stderr",
     "output_type": "stream",
     "text": [
      "C:\\Users\\mgopa\\AppData\\Local\\Temp\\ipykernel_2328\\2384233428.py:1: SettingWithCopyWarning: \n",
      "A value is trying to be set on a copy of a slice from a DataFrame.\n",
      "Try using .loc[row_indexer,col_indexer] = value instead\n",
      "\n",
      "See the caveats in the documentation: https://pandas.pydata.org/pandas-docs/stable/user_guide/indexing.html#returning-a-view-versus-a-copy\n",
      "  df_2022['actor_2_name'] = df_2022['Cast and crew'].map(lambda x: get_actor2(str(x)))\n"
     ]
    }
   ],
   "source": [
    "df_2022['actor_2_name'] = df_2022['Cast and crew'].map(lambda x: get_actor2(str(x)))"
   ]
  },
  {
   "cell_type": "code",
   "execution_count": 21,
   "id": "b0698224",
   "metadata": {},
   "outputs": [],
   "source": [
    "def get_actor3(x):\n",
    "    if len((x.split(\"screenplay); \")[-1]).split(\", \")) < 3:\n",
    "        return np.NaN\n",
    "    else:\n",
    "        return ((x.split(\"screenplay); \")[-1]).split(\", \")[2])"
   ]
  },
  {
   "cell_type": "code",
   "execution_count": 22,
   "id": "cdf97fd1",
   "metadata": {},
   "outputs": [],
   "source": [
    "df_2022['actor_3_name'] = df_2022['Cast and crew'].map(lambda x: get_actor3(str(x)))"
   ]
  },
  {
   "cell_type": "code",
   "execution_count": 23,
   "id": "a1c9f70d",
   "metadata": {},
   "outputs": [
    {
     "data": {
      "text/html": [
       "<div>\n",
       "<style scoped>\n",
       "    .dataframe tbody tr th:only-of-type {\n",
       "        vertical-align: middle;\n",
       "    }\n",
       "\n",
       "    .dataframe tbody tr th {\n",
       "        vertical-align: top;\n",
       "    }\n",
       "\n",
       "    .dataframe thead th {\n",
       "        text-align: right;\n",
       "    }\n",
       "</style>\n",
       "<table border=\"1\" class=\"dataframe\">\n",
       "  <thead>\n",
       "    <tr style=\"text-align: right;\">\n",
       "      <th></th>\n",
       "      <th>Title</th>\n",
       "      <th>Cast and crew</th>\n",
       "      <th>genres</th>\n",
       "      <th>director_name</th>\n",
       "      <th>actor_1_name</th>\n",
       "      <th>actor_2_name</th>\n",
       "      <th>actor_3_name</th>\n",
       "    </tr>\n",
       "  </thead>\n",
       "  <tbody>\n",
       "    <tr>\n",
       "      <th>0</th>\n",
       "      <td>The 355</td>\n",
       "      <td>Simon Kinberg (director/screenplay); Theresa R...</td>\n",
       "      <td>Action Thriller</td>\n",
       "      <td>Simon Kinberg</td>\n",
       "      <td>Jessica Chastain</td>\n",
       "      <td>Lupita Nyong'o</td>\n",
       "      <td>Penélope Cruz</td>\n",
       "    </tr>\n",
       "    <tr>\n",
       "      <th>1</th>\n",
       "      <td>The Legend of La Llorona</td>\n",
       "      <td>Patricia Harris Seeley (director/screenplay); ...</td>\n",
       "      <td>Horror Thriller</td>\n",
       "      <td>Patricia Harris Seeley</td>\n",
       "      <td>Autumn Reeser</td>\n",
       "      <td>Antonio Cupo</td>\n",
       "      <td>Danny Trejo</td>\n",
       "    </tr>\n",
       "    <tr>\n",
       "      <th>2</th>\n",
       "      <td>The Commando</td>\n",
       "      <td>Asif Akbar (director); Koji Steven Sakai (scre...</td>\n",
       "      <td>Action Crime Thriller</td>\n",
       "      <td>Asif Akbar</td>\n",
       "      <td>Mickey Rourke</td>\n",
       "      <td>Michael Jai White</td>\n",
       "      <td>NaN</td>\n",
       "    </tr>\n",
       "    <tr>\n",
       "      <th>3</th>\n",
       "      <td>American Siege</td>\n",
       "      <td>Edward Drake (director/screenplay); Timothy V....</td>\n",
       "      <td>Action Thriller Crime Drama</td>\n",
       "      <td>Edward Drake</td>\n",
       "      <td>Timothy V. Murphy</td>\n",
       "      <td>Bruce Willis</td>\n",
       "      <td>NaN</td>\n",
       "    </tr>\n",
       "    <tr>\n",
       "      <th>4</th>\n",
       "      <td>Scream</td>\n",
       "      <td>Matt Bettinelli-Olpin, Tyler Gillett (director...</td>\n",
       "      <td>Horror Mystery Thriller</td>\n",
       "      <td>Matt Bettinelli-Olpin, Tyler Gillett</td>\n",
       "      <td>Melissa Barrera</td>\n",
       "      <td>Mason Gooding</td>\n",
       "      <td>Jenna Ortega</td>\n",
       "    </tr>\n",
       "  </tbody>\n",
       "</table>\n",
       "</div>"
      ],
      "text/plain": [
       "                      Title  \\\n",
       "0                   The 355   \n",
       "1  The Legend of La Llorona   \n",
       "2              The Commando   \n",
       "3            American Siege   \n",
       "4                    Scream   \n",
       "\n",
       "                                       Cast and crew  \\\n",
       "0  Simon Kinberg (director/screenplay); Theresa R...   \n",
       "1  Patricia Harris Seeley (director/screenplay); ...   \n",
       "2  Asif Akbar (director); Koji Steven Sakai (scre...   \n",
       "3  Edward Drake (director/screenplay); Timothy V....   \n",
       "4  Matt Bettinelli-Olpin, Tyler Gillett (director...   \n",
       "\n",
       "                        genres                         director_name  \\\n",
       "0              Action Thriller                         Simon Kinberg   \n",
       "1              Horror Thriller                Patricia Harris Seeley   \n",
       "2        Action Crime Thriller                            Asif Akbar   \n",
       "3  Action Thriller Crime Drama                          Edward Drake   \n",
       "4      Horror Mystery Thriller  Matt Bettinelli-Olpin, Tyler Gillett   \n",
       "\n",
       "        actor_1_name       actor_2_name   actor_3_name  \n",
       "0   Jessica Chastain     Lupita Nyong'o  Penélope Cruz  \n",
       "1      Autumn Reeser       Antonio Cupo    Danny Trejo  \n",
       "2      Mickey Rourke  Michael Jai White            NaN  \n",
       "3  Timothy V. Murphy       Bruce Willis            NaN  \n",
       "4    Melissa Barrera      Mason Gooding   Jenna Ortega  "
      ]
     },
     "execution_count": 23,
     "metadata": {},
     "output_type": "execute_result"
    }
   ],
   "source": [
    "df_2022.head()"
   ]
  },
  {
   "cell_type": "code",
   "execution_count": 24,
   "id": "7df40fc5",
   "metadata": {},
   "outputs": [],
   "source": [
    "df_2022 = df_2022.rename(columns={'Title':'movie_title'})"
   ]
  },
  {
   "cell_type": "code",
   "execution_count": 25,
   "id": "a49dfe45",
   "metadata": {},
   "outputs": [],
   "source": [
    "new_df22 = df_2022.loc[:,['director_name','actor_1_name','actor_2_name','actor_3_name','genres','movie_title']]"
   ]
  },
  {
   "cell_type": "code",
   "execution_count": 26,
   "id": "7b1ec4f3",
   "metadata": {},
   "outputs": [
    {
     "data": {
      "text/html": [
       "<div>\n",
       "<style scoped>\n",
       "    .dataframe tbody tr th:only-of-type {\n",
       "        vertical-align: middle;\n",
       "    }\n",
       "\n",
       "    .dataframe tbody tr th {\n",
       "        vertical-align: top;\n",
       "    }\n",
       "\n",
       "    .dataframe thead th {\n",
       "        text-align: right;\n",
       "    }\n",
       "</style>\n",
       "<table border=\"1\" class=\"dataframe\">\n",
       "  <thead>\n",
       "    <tr style=\"text-align: right;\">\n",
       "      <th></th>\n",
       "      <th>director_name</th>\n",
       "      <th>actor_1_name</th>\n",
       "      <th>actor_2_name</th>\n",
       "      <th>actor_3_name</th>\n",
       "      <th>genres</th>\n",
       "      <th>movie_title</th>\n",
       "    </tr>\n",
       "  </thead>\n",
       "  <tbody>\n",
       "    <tr>\n",
       "      <th>0</th>\n",
       "      <td>Simon Kinberg</td>\n",
       "      <td>Jessica Chastain</td>\n",
       "      <td>Lupita Nyong'o</td>\n",
       "      <td>Penélope Cruz</td>\n",
       "      <td>Action Thriller</td>\n",
       "      <td>The 355</td>\n",
       "    </tr>\n",
       "    <tr>\n",
       "      <th>1</th>\n",
       "      <td>Patricia Harris Seeley</td>\n",
       "      <td>Autumn Reeser</td>\n",
       "      <td>Antonio Cupo</td>\n",
       "      <td>Danny Trejo</td>\n",
       "      <td>Horror Thriller</td>\n",
       "      <td>The Legend of La Llorona</td>\n",
       "    </tr>\n",
       "    <tr>\n",
       "      <th>2</th>\n",
       "      <td>Asif Akbar</td>\n",
       "      <td>Mickey Rourke</td>\n",
       "      <td>Michael Jai White</td>\n",
       "      <td>NaN</td>\n",
       "      <td>Action Crime Thriller</td>\n",
       "      <td>The Commando</td>\n",
       "    </tr>\n",
       "    <tr>\n",
       "      <th>3</th>\n",
       "      <td>Edward Drake</td>\n",
       "      <td>Timothy V. Murphy</td>\n",
       "      <td>Bruce Willis</td>\n",
       "      <td>NaN</td>\n",
       "      <td>Action Thriller Crime Drama</td>\n",
       "      <td>American Siege</td>\n",
       "    </tr>\n",
       "    <tr>\n",
       "      <th>4</th>\n",
       "      <td>Matt Bettinelli-Olpin, Tyler Gillett</td>\n",
       "      <td>Melissa Barrera</td>\n",
       "      <td>Mason Gooding</td>\n",
       "      <td>Jenna Ortega</td>\n",
       "      <td>Horror Mystery Thriller</td>\n",
       "      <td>Scream</td>\n",
       "    </tr>\n",
       "  </tbody>\n",
       "</table>\n",
       "</div>"
      ],
      "text/plain": [
       "                          director_name       actor_1_name       actor_2_name  \\\n",
       "0                         Simon Kinberg   Jessica Chastain     Lupita Nyong'o   \n",
       "1                Patricia Harris Seeley      Autumn Reeser       Antonio Cupo   \n",
       "2                            Asif Akbar      Mickey Rourke  Michael Jai White   \n",
       "3                          Edward Drake  Timothy V. Murphy       Bruce Willis   \n",
       "4  Matt Bettinelli-Olpin, Tyler Gillett    Melissa Barrera      Mason Gooding   \n",
       "\n",
       "    actor_3_name                       genres               movie_title  \n",
       "0  Penélope Cruz              Action Thriller                   The 355  \n",
       "1    Danny Trejo              Horror Thriller  The Legend of La Llorona  \n",
       "2            NaN        Action Crime Thriller              The Commando  \n",
       "3            NaN  Action Thriller Crime Drama            American Siege  \n",
       "4   Jenna Ortega      Horror Mystery Thriller                    Scream  "
      ]
     },
     "execution_count": 26,
     "metadata": {},
     "output_type": "execute_result"
    }
   ],
   "source": [
    "new_df22.head()"
   ]
  },
  {
   "cell_type": "code",
   "execution_count": 27,
   "id": "4ca7225a",
   "metadata": {},
   "outputs": [],
   "source": [
    "new_df22['comb'] = new_df22['actor_1_name'] + ' ' + new_df22['actor_2_name'] + ' '+ new_df22['actor_3_name'] + ' '+ new_df22['director_name'] +' ' + new_df22['genres']"
   ]
  },
  {
   "cell_type": "code",
   "execution_count": 28,
   "id": "06082604",
   "metadata": {},
   "outputs": [
    {
     "data": {
      "text/plain": [
       "director_name     0\n",
       "actor_1_name      0\n",
       "actor_2_name      9\n",
       "actor_3_name     35\n",
       "genres            1\n",
       "movie_title       4\n",
       "comb             36\n",
       "dtype: int64"
      ]
     },
     "execution_count": 28,
     "metadata": {},
     "output_type": "execute_result"
    }
   ],
   "source": [
    "new_df22.isna().sum()"
   ]
  },
  {
   "cell_type": "code",
   "execution_count": 29,
   "id": "6b56e302",
   "metadata": {},
   "outputs": [],
   "source": [
    "new_df22 = new_df22.dropna(how='any')"
   ]
  },
  {
   "cell_type": "code",
   "execution_count": 30,
   "id": "edc824ec",
   "metadata": {},
   "outputs": [
    {
     "data": {
      "text/plain": [
       "director_name    0\n",
       "actor_1_name     0\n",
       "actor_2_name     0\n",
       "actor_3_name     0\n",
       "genres           0\n",
       "movie_title      0\n",
       "comb             0\n",
       "dtype: int64"
      ]
     },
     "execution_count": 30,
     "metadata": {},
     "output_type": "execute_result"
    }
   ],
   "source": [
    "new_df22.isna().sum()"
   ]
  },
  {
   "cell_type": "code",
   "execution_count": 32,
   "id": "dbc9ae4d",
   "metadata": {},
   "outputs": [],
   "source": [
    "new_df22['movie_title'] = new_df22['movie_title'].str.lower()"
   ]
  },
  {
   "cell_type": "code",
   "execution_count": 33,
   "id": "2e7fe507",
   "metadata": {},
   "outputs": [
    {
     "data": {
      "text/html": [
       "<div>\n",
       "<style scoped>\n",
       "    .dataframe tbody tr th:only-of-type {\n",
       "        vertical-align: middle;\n",
       "    }\n",
       "\n",
       "    .dataframe tbody tr th {\n",
       "        vertical-align: top;\n",
       "    }\n",
       "\n",
       "    .dataframe thead th {\n",
       "        text-align: right;\n",
       "    }\n",
       "</style>\n",
       "<table border=\"1\" class=\"dataframe\">\n",
       "  <thead>\n",
       "    <tr style=\"text-align: right;\">\n",
       "      <th></th>\n",
       "      <th>director_name</th>\n",
       "      <th>actor_1_name</th>\n",
       "      <th>actor_2_name</th>\n",
       "      <th>actor_3_name</th>\n",
       "      <th>genres</th>\n",
       "      <th>movie_title</th>\n",
       "      <th>comb</th>\n",
       "    </tr>\n",
       "  </thead>\n",
       "  <tbody>\n",
       "    <tr>\n",
       "      <th>0</th>\n",
       "      <td>Simon Kinberg</td>\n",
       "      <td>Jessica Chastain</td>\n",
       "      <td>Lupita Nyong'o</td>\n",
       "      <td>Penélope Cruz</td>\n",
       "      <td>Action Thriller</td>\n",
       "      <td>the 355</td>\n",
       "      <td>Jessica Chastain Lupita Nyong'o Penélope Cruz ...</td>\n",
       "    </tr>\n",
       "    <tr>\n",
       "      <th>1</th>\n",
       "      <td>Patricia Harris Seeley</td>\n",
       "      <td>Autumn Reeser</td>\n",
       "      <td>Antonio Cupo</td>\n",
       "      <td>Danny Trejo</td>\n",
       "      <td>Horror Thriller</td>\n",
       "      <td>the legend of la llorona</td>\n",
       "      <td>Autumn Reeser Antonio Cupo Danny Trejo Patrici...</td>\n",
       "    </tr>\n",
       "    <tr>\n",
       "      <th>4</th>\n",
       "      <td>Matt Bettinelli-Olpin, Tyler Gillett</td>\n",
       "      <td>Melissa Barrera</td>\n",
       "      <td>Mason Gooding</td>\n",
       "      <td>Jenna Ortega</td>\n",
       "      <td>Horror Mystery Thriller</td>\n",
       "      <td>scream</td>\n",
       "      <td>Melissa Barrera Mason Gooding Jenna Ortega Mat...</td>\n",
       "    </tr>\n",
       "    <tr>\n",
       "      <th>5</th>\n",
       "      <td>Jennifer Kluska, Derek Drymon</td>\n",
       "      <td>Andy Samberg</td>\n",
       "      <td>Selena Gomez</td>\n",
       "      <td>Kathryn Hahn</td>\n",
       "      <td>Animation Comedy Family Fantasy Adventure</td>\n",
       "      <td>hotel transylvania: transformania</td>\n",
       "      <td>Andy Samberg Selena Gomez Kathryn Hahn Jennife...</td>\n",
       "    </tr>\n",
       "    <tr>\n",
       "      <th>6</th>\n",
       "      <td>Luis Prieto</td>\n",
       "      <td>Cameron Monaghan</td>\n",
       "      <td>Frank Grillo</td>\n",
       "      <td>Lilly Krug</td>\n",
       "      <td>Thriller</td>\n",
       "      <td>shattered</td>\n",
       "      <td>Cameron Monaghan Frank Grillo Lilly Krug Luis ...</td>\n",
       "    </tr>\n",
       "  </tbody>\n",
       "</table>\n",
       "</div>"
      ],
      "text/plain": [
       "                          director_name      actor_1_name    actor_2_name  \\\n",
       "0                         Simon Kinberg  Jessica Chastain  Lupita Nyong'o   \n",
       "1                Patricia Harris Seeley     Autumn Reeser    Antonio Cupo   \n",
       "4  Matt Bettinelli-Olpin, Tyler Gillett   Melissa Barrera   Mason Gooding   \n",
       "5         Jennifer Kluska, Derek Drymon      Andy Samberg    Selena Gomez   \n",
       "6                           Luis Prieto  Cameron Monaghan    Frank Grillo   \n",
       "\n",
       "    actor_3_name                                     genres  \\\n",
       "0  Penélope Cruz                            Action Thriller   \n",
       "1    Danny Trejo                            Horror Thriller   \n",
       "4   Jenna Ortega                    Horror Mystery Thriller   \n",
       "5   Kathryn Hahn  Animation Comedy Family Fantasy Adventure   \n",
       "6     Lilly Krug                                   Thriller   \n",
       "\n",
       "                         movie_title  \\\n",
       "0                            the 355   \n",
       "1           the legend of la llorona   \n",
       "4                             scream   \n",
       "5  hotel transylvania: transformania   \n",
       "6                          shattered   \n",
       "\n",
       "                                                comb  \n",
       "0  Jessica Chastain Lupita Nyong'o Penélope Cruz ...  \n",
       "1  Autumn Reeser Antonio Cupo Danny Trejo Patrici...  \n",
       "4  Melissa Barrera Mason Gooding Jenna Ortega Mat...  \n",
       "5  Andy Samberg Selena Gomez Kathryn Hahn Jennife...  \n",
       "6  Cameron Monaghan Frank Grillo Lilly Krug Luis ...  "
      ]
     },
     "execution_count": 33,
     "metadata": {},
     "output_type": "execute_result"
    }
   ],
   "source": [
    "new_df22.head()"
   ]
  },
  {
   "cell_type": "code",
   "execution_count": 34,
   "id": "6e759609",
   "metadata": {},
   "outputs": [],
   "source": [
    "old_df = pd.read_csv('final_data.csv')"
   ]
  },
  {
   "cell_type": "code",
   "execution_count": 35,
   "id": "67f60842",
   "metadata": {},
   "outputs": [
    {
     "data": {
      "text/html": [
       "<div>\n",
       "<style scoped>\n",
       "    .dataframe tbody tr th:only-of-type {\n",
       "        vertical-align: middle;\n",
       "    }\n",
       "\n",
       "    .dataframe tbody tr th {\n",
       "        vertical-align: top;\n",
       "    }\n",
       "\n",
       "    .dataframe thead th {\n",
       "        text-align: right;\n",
       "    }\n",
       "</style>\n",
       "<table border=\"1\" class=\"dataframe\">\n",
       "  <thead>\n",
       "    <tr style=\"text-align: right;\">\n",
       "      <th></th>\n",
       "      <th>director_name</th>\n",
       "      <th>actor_1_name</th>\n",
       "      <th>actor_2_name</th>\n",
       "      <th>actor_3_name</th>\n",
       "      <th>genres</th>\n",
       "      <th>movie_title</th>\n",
       "      <th>comb</th>\n",
       "    </tr>\n",
       "  </thead>\n",
       "  <tbody>\n",
       "    <tr>\n",
       "      <th>0</th>\n",
       "      <td>James Cameron</td>\n",
       "      <td>CCH Pounder</td>\n",
       "      <td>Joel David Moore</td>\n",
       "      <td>Wes Studi</td>\n",
       "      <td>Action Adventure Fantasy Sci-Fi</td>\n",
       "      <td>avatar</td>\n",
       "      <td>CCH Pounder Joel David Moore Wes Studi James C...</td>\n",
       "    </tr>\n",
       "    <tr>\n",
       "      <th>1</th>\n",
       "      <td>Gore Verbinski</td>\n",
       "      <td>Johnny Depp</td>\n",
       "      <td>Orlando Bloom</td>\n",
       "      <td>Jack Davenport</td>\n",
       "      <td>Action Adventure Fantasy</td>\n",
       "      <td>pirates of the caribbean: at world's end</td>\n",
       "      <td>Johnny Depp Orlando Bloom Jack Davenport Gore ...</td>\n",
       "    </tr>\n",
       "    <tr>\n",
       "      <th>2</th>\n",
       "      <td>Sam Mendes</td>\n",
       "      <td>Christoph Waltz</td>\n",
       "      <td>Rory Kinnear</td>\n",
       "      <td>Stephanie Sigman</td>\n",
       "      <td>Action Adventure Thriller</td>\n",
       "      <td>spectre</td>\n",
       "      <td>Christoph Waltz Rory Kinnear Stephanie Sigman ...</td>\n",
       "    </tr>\n",
       "    <tr>\n",
       "      <th>3</th>\n",
       "      <td>Christopher Nolan</td>\n",
       "      <td>Tom Hardy</td>\n",
       "      <td>Christian Bale</td>\n",
       "      <td>Joseph Gordon-Levitt</td>\n",
       "      <td>Action Thriller</td>\n",
       "      <td>the dark knight rises</td>\n",
       "      <td>Tom Hardy Christian Bale Joseph Gordon-Levitt ...</td>\n",
       "    </tr>\n",
       "    <tr>\n",
       "      <th>4</th>\n",
       "      <td>Doug Walker</td>\n",
       "      <td>Doug Walker</td>\n",
       "      <td>Rob Walker</td>\n",
       "      <td>unknown</td>\n",
       "      <td>Documentary</td>\n",
       "      <td>star wars: episode vii - the force awakens    ...</td>\n",
       "      <td>Doug Walker Rob Walker unknown Doug Walker Doc...</td>\n",
       "    </tr>\n",
       "  </tbody>\n",
       "</table>\n",
       "</div>"
      ],
      "text/plain": [
       "       director_name     actor_1_name      actor_2_name          actor_3_name  \\\n",
       "0      James Cameron      CCH Pounder  Joel David Moore             Wes Studi   \n",
       "1     Gore Verbinski      Johnny Depp     Orlando Bloom        Jack Davenport   \n",
       "2         Sam Mendes  Christoph Waltz      Rory Kinnear      Stephanie Sigman   \n",
       "3  Christopher Nolan        Tom Hardy    Christian Bale  Joseph Gordon-Levitt   \n",
       "4        Doug Walker      Doug Walker        Rob Walker               unknown   \n",
       "\n",
       "                            genres  \\\n",
       "0  Action Adventure Fantasy Sci-Fi   \n",
       "1         Action Adventure Fantasy   \n",
       "2        Action Adventure Thriller   \n",
       "3                  Action Thriller   \n",
       "4                      Documentary   \n",
       "\n",
       "                                         movie_title  \\\n",
       "0                                             avatar   \n",
       "1           pirates of the caribbean: at world's end   \n",
       "2                                            spectre   \n",
       "3                              the dark knight rises   \n",
       "4  star wars: episode vii - the force awakens    ...   \n",
       "\n",
       "                                                comb  \n",
       "0  CCH Pounder Joel David Moore Wes Studi James C...  \n",
       "1  Johnny Depp Orlando Bloom Jack Davenport Gore ...  \n",
       "2  Christoph Waltz Rory Kinnear Stephanie Sigman ...  \n",
       "3  Tom Hardy Christian Bale Joseph Gordon-Levitt ...  \n",
       "4  Doug Walker Rob Walker unknown Doug Walker Doc...  "
      ]
     },
     "execution_count": 35,
     "metadata": {},
     "output_type": "execute_result"
    }
   ],
   "source": [
    "old_df.head()"
   ]
  },
  {
   "cell_type": "code",
   "execution_count": 36,
   "id": "8e2deae9",
   "metadata": {},
   "outputs": [
    {
     "name": "stderr",
     "output_type": "stream",
     "text": [
      "C:\\Users\\mgopa\\AppData\\Local\\Temp\\ipykernel_2328\\1166909226.py:1: FutureWarning: The frame.append method is deprecated and will be removed from pandas in a future version. Use pandas.concat instead.\n",
      "  final_df = old_df.append(new_df22,ignore_index=True)\n"
     ]
    }
   ],
   "source": [
    "final_df = old_df.append(new_df22,ignore_index=True)"
   ]
  },
  {
   "cell_type": "code",
   "execution_count": 37,
   "id": "5da96071",
   "metadata": {},
   "outputs": [
    {
     "data": {
      "text/html": [
       "<div>\n",
       "<style scoped>\n",
       "    .dataframe tbody tr th:only-of-type {\n",
       "        vertical-align: middle;\n",
       "    }\n",
       "\n",
       "    .dataframe tbody tr th {\n",
       "        vertical-align: top;\n",
       "    }\n",
       "\n",
       "    .dataframe thead th {\n",
       "        text-align: right;\n",
       "    }\n",
       "</style>\n",
       "<table border=\"1\" class=\"dataframe\">\n",
       "  <thead>\n",
       "    <tr style=\"text-align: right;\">\n",
       "      <th></th>\n",
       "      <th>director_name</th>\n",
       "      <th>actor_1_name</th>\n",
       "      <th>actor_2_name</th>\n",
       "      <th>actor_3_name</th>\n",
       "      <th>genres</th>\n",
       "      <th>movie_title</th>\n",
       "      <th>comb</th>\n",
       "    </tr>\n",
       "  </thead>\n",
       "  <tbody>\n",
       "    <tr>\n",
       "      <th>0</th>\n",
       "      <td>James Cameron</td>\n",
       "      <td>CCH Pounder</td>\n",
       "      <td>Joel David Moore</td>\n",
       "      <td>Wes Studi</td>\n",
       "      <td>Action Adventure Fantasy Sci-Fi</td>\n",
       "      <td>avatar</td>\n",
       "      <td>CCH Pounder Joel David Moore Wes Studi James C...</td>\n",
       "    </tr>\n",
       "    <tr>\n",
       "      <th>1</th>\n",
       "      <td>Gore Verbinski</td>\n",
       "      <td>Johnny Depp</td>\n",
       "      <td>Orlando Bloom</td>\n",
       "      <td>Jack Davenport</td>\n",
       "      <td>Action Adventure Fantasy</td>\n",
       "      <td>pirates of the caribbean: at world's end</td>\n",
       "      <td>Johnny Depp Orlando Bloom Jack Davenport Gore ...</td>\n",
       "    </tr>\n",
       "    <tr>\n",
       "      <th>2</th>\n",
       "      <td>Sam Mendes</td>\n",
       "      <td>Christoph Waltz</td>\n",
       "      <td>Rory Kinnear</td>\n",
       "      <td>Stephanie Sigman</td>\n",
       "      <td>Action Adventure Thriller</td>\n",
       "      <td>spectre</td>\n",
       "      <td>Christoph Waltz Rory Kinnear Stephanie Sigman ...</td>\n",
       "    </tr>\n",
       "    <tr>\n",
       "      <th>3</th>\n",
       "      <td>Christopher Nolan</td>\n",
       "      <td>Tom Hardy</td>\n",
       "      <td>Christian Bale</td>\n",
       "      <td>Joseph Gordon-Levitt</td>\n",
       "      <td>Action Thriller</td>\n",
       "      <td>the dark knight rises</td>\n",
       "      <td>Tom Hardy Christian Bale Joseph Gordon-Levitt ...</td>\n",
       "    </tr>\n",
       "    <tr>\n",
       "      <th>4</th>\n",
       "      <td>Doug Walker</td>\n",
       "      <td>Doug Walker</td>\n",
       "      <td>Rob Walker</td>\n",
       "      <td>unknown</td>\n",
       "      <td>Documentary</td>\n",
       "      <td>star wars: episode vii - the force awakens    ...</td>\n",
       "      <td>Doug Walker Rob Walker unknown Doug Walker Doc...</td>\n",
       "    </tr>\n",
       "  </tbody>\n",
       "</table>\n",
       "</div>"
      ],
      "text/plain": [
       "       director_name     actor_1_name      actor_2_name          actor_3_name  \\\n",
       "0      James Cameron      CCH Pounder  Joel David Moore             Wes Studi   \n",
       "1     Gore Verbinski      Johnny Depp     Orlando Bloom        Jack Davenport   \n",
       "2         Sam Mendes  Christoph Waltz      Rory Kinnear      Stephanie Sigman   \n",
       "3  Christopher Nolan        Tom Hardy    Christian Bale  Joseph Gordon-Levitt   \n",
       "4        Doug Walker      Doug Walker        Rob Walker               unknown   \n",
       "\n",
       "                            genres  \\\n",
       "0  Action Adventure Fantasy Sci-Fi   \n",
       "1         Action Adventure Fantasy   \n",
       "2        Action Adventure Thriller   \n",
       "3                  Action Thriller   \n",
       "4                      Documentary   \n",
       "\n",
       "                                         movie_title  \\\n",
       "0                                             avatar   \n",
       "1           pirates of the caribbean: at world's end   \n",
       "2                                            spectre   \n",
       "3                              the dark knight rises   \n",
       "4  star wars: episode vii - the force awakens    ...   \n",
       "\n",
       "                                                comb  \n",
       "0  CCH Pounder Joel David Moore Wes Studi James C...  \n",
       "1  Johnny Depp Orlando Bloom Jack Davenport Gore ...  \n",
       "2  Christoph Waltz Rory Kinnear Stephanie Sigman ...  \n",
       "3  Tom Hardy Christian Bale Joseph Gordon-Levitt ...  \n",
       "4  Doug Walker Rob Walker unknown Doug Walker Doc...  "
      ]
     },
     "execution_count": 37,
     "metadata": {},
     "output_type": "execute_result"
    }
   ],
   "source": [
    "final_df.head()"
   ]
  },
  {
   "cell_type": "code",
   "execution_count": 38,
   "id": "34597cd2",
   "metadata": {},
   "outputs": [],
   "source": [
    "final_df.to_csv('main_data.csv',index=False)"
   ]
  }
 ],
 "metadata": {
  "kernelspec": {
   "display_name": "Python 3 (ipykernel)",
   "language": "python",
   "name": "python3"
  },
  "language_info": {
   "codemirror_mode": {
    "name": "ipython",
    "version": 3
   },
   "file_extension": ".py",
   "mimetype": "text/x-python",
   "name": "python",
   "nbconvert_exporter": "python",
   "pygments_lexer": "ipython3",
   "version": "3.9.16"
  }
 },
 "nbformat": 4,
 "nbformat_minor": 5
}
